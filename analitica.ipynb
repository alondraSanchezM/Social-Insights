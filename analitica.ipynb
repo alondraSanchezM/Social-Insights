{
  "cells": [
    {
      "cell_type": "markdown",
      "metadata": {
        "id": "N1dRtENITVOo"
      },
      "source": [
        "# Social Insights\n",
        "> Proyecto realizado para el reto: BBVA Contigo del Hackathon BBVA 2021"
      ]
    },
    {
      "cell_type": "markdown",
      "metadata": {
        "id": "MqPVo_lDTVOu"
      },
      "source": [
        "## Recolección de datos"
      ]
    },
    {
      "cell_type": "code",
      "execution_count": 1,
      "metadata": {
        "id": "2qv3-ghmTVOv"
      },
      "outputs": [],
      "source": [
        "# !pip install git+https://github.com/JustAnotherArchivist/snscrape.git\n",
        "\n",
        "import snscrape.modules.twitter as sntwitter\n",
        "import pandas as pd"
      ]
    },
    {
      "cell_type": "code",
      "execution_count": 2,
      "metadata": {
        "id": "3ymBeq8UTVOw"
      },
      "outputs": [],
      "source": [
        "servicios = [\"tarjeta de crédito\",\"tarjeta de débito\",\"crédito\",\"cuenta bancaria\",\"nómina\",\"pensión\",\"cuenta de ahorro\",\"seguro\",\"invertir\"]\n",
        "maxExtraer = 5000"
      ]
    },
    {
      "cell_type": "code",
      "execution_count": 4,
      "metadata": {
        "id": "VYJejk5MTVOx"
      },
      "outputs": [],
      "source": [
        "df_servicios = []\n",
        "\n",
        "for s in servicios:\n",
        "    tweets_list = []\n",
        "\n",
        "    data = s + ' since:2021-10-22 until:2021-10-23'\n",
        "    for i,tweet in enumerate(sntwitter.TwitterSearchScraper(data).get_items()):\n",
        "        if i>maxExtraer:\n",
        "            break\n",
        "        tweets_list.append([tweet.date, tweet.content, tweet.user.location])\n",
        "\n",
        "    df_name = \"df_\" + s\n",
        "    df_name = pd.DataFrame(tweets_list, columns=['Fecha','Contenido','Ubicacion'])\n",
        "    df_name[\"Servicio\"]= s\n",
        "\n",
        "    df_servicios.append(df_name)"
      ]
    },
    {
      "cell_type": "code",
      "execution_count": 5,
      "metadata": {
        "id": "E4mKLJqGTVOy",
        "outputId": "8452abe4-3567-4ab3-8bd8-fffed568ec87"
      },
      "outputs": [
        {
          "data": {
            "text/html": [
              "<div>\n",
              "<style scoped>\n",
              "    .dataframe tbody tr th:only-of-type {\n",
              "        vertical-align: middle;\n",
              "    }\n",
              "\n",
              "    .dataframe tbody tr th {\n",
              "        vertical-align: top;\n",
              "    }\n",
              "\n",
              "    .dataframe thead th {\n",
              "        text-align: right;\n",
              "    }\n",
              "</style>\n",
              "<table border=\"1\" class=\"dataframe\">\n",
              "  <thead>\n",
              "    <tr style=\"text-align: right;\">\n",
              "      <th></th>\n",
              "      <th>Fecha</th>\n",
              "      <th>Contenido</th>\n",
              "      <th>Ubicacion</th>\n",
              "      <th>Servicio</th>\n",
              "      <th>Red_Social</th>\n",
              "    </tr>\n",
              "  </thead>\n",
              "  <tbody>\n",
              "    <tr>\n",
              "      <th>0</th>\n",
              "      <td>2021-10-22 23:59:36+00:00</td>\n",
              "      <td>@AngelMHZ Ah yo nunca tengo, pero mágicamente ...</td>\n",
              "      <td>National District</td>\n",
              "      <td>tarjeta de crédito</td>\n",
              "      <td>Twitter</td>\n",
              "    </tr>\n",
              "    <tr>\n",
              "      <th>1</th>\n",
              "      <td>2021-10-22 23:56:57+00:00</td>\n",
              "      <td>#newvideoinmychannel | ¿Cómo manejo mi tarjeta...</td>\n",
              "      <td>Minnesota</td>\n",
              "      <td>tarjeta de crédito</td>\n",
              "      <td>Twitter</td>\n",
              "    </tr>\n",
              "    <tr>\n",
              "      <th>2</th>\n",
              "      <td>2021-10-22 23:56:40+00:00</td>\n",
              "      <td>Murió mí billetera\\nSucumbió mí tarjeta de cré...</td>\n",
              "      <td>Argentina</td>\n",
              "      <td>tarjeta de crédito</td>\n",
              "      <td>Twitter</td>\n",
              "    </tr>\n",
              "    <tr>\n",
              "      <th>3</th>\n",
              "      <td>2021-10-22 23:55:34+00:00</td>\n",
              "      <td>Si tengo tarjeta de credito de banamex, alguie...</td>\n",
              "      <td>Tampico | Mante, MX</td>\n",
              "      <td>tarjeta de crédito</td>\n",
              "      <td>Twitter</td>\n",
              "    </tr>\n",
              "    <tr>\n",
              "      <th>4</th>\n",
              "      <td>2021-10-22 23:54:50+00:00</td>\n",
              "      <td>sí, también en lo de la tarjeta de crédito.</td>\n",
              "      <td>el abismo</td>\n",
              "      <td>tarjeta de crédito</td>\n",
              "      <td>Twitter</td>\n",
              "    </tr>\n",
              "    <tr>\n",
              "      <th>...</th>\n",
              "      <td>...</td>\n",
              "      <td>...</td>\n",
              "      <td>...</td>\n",
              "      <td>...</td>\n",
              "      <td>...</td>\n",
              "    </tr>\n",
              "    <tr>\n",
              "      <th>21931</th>\n",
              "      <td>2021-10-22 00:01:02+00:00</td>\n",
              "      <td>@ErickVil5 Eso es verdad. No invierten en tecn...</td>\n",
              "      <td></td>\n",
              "      <td>invertir</td>\n",
              "      <td>Twitter</td>\n",
              "    </tr>\n",
              "    <tr>\n",
              "      <th>21932</th>\n",
              "      <td>2021-10-22 00:00:53+00:00</td>\n",
              "      <td>Aprovecha grandes ofertas y date el gusto de e...</td>\n",
              "      <td>Balderas 144 Col. Centro. CDMX</td>\n",
              "      <td>invertir</td>\n",
              "      <td>Twitter</td>\n",
              "    </tr>\n",
              "    <tr>\n",
              "      <th>21933</th>\n",
              "      <td>2021-10-22 00:00:23+00:00</td>\n",
              "      <td>@adoquin2001 Y no, no puedes ahorrar e inverti...</td>\n",
              "      <td></td>\n",
              "      <td>invertir</td>\n",
              "      <td>Twitter</td>\n",
              "    </tr>\n",
              "    <tr>\n",
              "      <th>21934</th>\n",
              "      <td>2021-10-22 00:00:08+00:00</td>\n",
              "      <td>#ModoIrreverente #JuanDiegoGómez #InvertirMejo...</td>\n",
              "      <td>Colombia</td>\n",
              "      <td>invertir</td>\n",
              "      <td>Twitter</td>\n",
              "    </tr>\n",
              "    <tr>\n",
              "      <th>21935</th>\n",
              "      <td>2021-10-22 00:00:07+00:00</td>\n",
              "      <td>Invertir en estrategias con enfoque de género ...</td>\n",
              "      <td>Quito, Ecuador</td>\n",
              "      <td>invertir</td>\n",
              "      <td>Twitter</td>\n",
              "    </tr>\n",
              "  </tbody>\n",
              "</table>\n",
              "<p>21936 rows × 5 columns</p>\n",
              "</div>"
            ],
            "text/plain": [
              "                          Fecha  \\\n",
              "0     2021-10-22 23:59:36+00:00   \n",
              "1     2021-10-22 23:56:57+00:00   \n",
              "2     2021-10-22 23:56:40+00:00   \n",
              "3     2021-10-22 23:55:34+00:00   \n",
              "4     2021-10-22 23:54:50+00:00   \n",
              "...                         ...   \n",
              "21931 2021-10-22 00:01:02+00:00   \n",
              "21932 2021-10-22 00:00:53+00:00   \n",
              "21933 2021-10-22 00:00:23+00:00   \n",
              "21934 2021-10-22 00:00:08+00:00   \n",
              "21935 2021-10-22 00:00:07+00:00   \n",
              "\n",
              "                                               Contenido  \\\n",
              "0      @AngelMHZ Ah yo nunca tengo, pero mágicamente ...   \n",
              "1      #newvideoinmychannel | ¿Cómo manejo mi tarjeta...   \n",
              "2      Murió mí billetera\\nSucumbió mí tarjeta de cré...   \n",
              "3      Si tengo tarjeta de credito de banamex, alguie...   \n",
              "4            sí, también en lo de la tarjeta de crédito.   \n",
              "...                                                  ...   \n",
              "21931  @ErickVil5 Eso es verdad. No invierten en tecn...   \n",
              "21932  Aprovecha grandes ofertas y date el gusto de e...   \n",
              "21933  @adoquin2001 Y no, no puedes ahorrar e inverti...   \n",
              "21934  #ModoIrreverente #JuanDiegoGómez #InvertirMejo...   \n",
              "21935  Invertir en estrategias con enfoque de género ...   \n",
              "\n",
              "                            Ubicacion            Servicio Red_Social  \n",
              "0                   National District  tarjeta de crédito    Twitter  \n",
              "1                           Minnesota  tarjeta de crédito    Twitter  \n",
              "2                           Argentina  tarjeta de crédito    Twitter  \n",
              "3                 Tampico | Mante, MX  tarjeta de crédito    Twitter  \n",
              "4                           el abismo  tarjeta de crédito    Twitter  \n",
              "...                               ...                 ...        ...  \n",
              "21931                                            invertir    Twitter  \n",
              "21932  Balderas 144 Col. Centro. CDMX            invertir    Twitter  \n",
              "21933                                            invertir    Twitter  \n",
              "21934                        Colombia            invertir    Twitter  \n",
              "21935                  Quito, Ecuador            invertir    Twitter  \n",
              "\n",
              "[21936 rows x 5 columns]"
            ]
          },
          "execution_count": 5,
          "metadata": {},
          "output_type": "execute_result"
        }
      ],
      "source": [
        "df_Twitter = pd.concat(df_servicios)\n",
        "df_Twitter[\"Red_Social\"] = \"Twitter\"\n",
        "df_Twitter.reset_index(drop=True, inplace=True)\n",
        "df_Twitter"
      ]
    },
    {
      "cell_type": "code",
      "execution_count": 6,
      "metadata": {
        "id": "lvYGGi-xTVOz"
      },
      "outputs": [],
      "source": [
        "df_Twitter.to_csv('Datasets/df_socialMedia_raw.csv', sep=',', index=False)"
      ]
    },
    {
      "cell_type": "markdown",
      "metadata": {
        "id": "iQECznd7TVO2"
      },
      "source": [
        "## Limpieza y tratamiento"
      ]
    },
    {
      "cell_type": "code",
      "execution_count": 7,
      "metadata": {
        "colab": {
          "base_uri": "https://localhost:8080/",
          "height": 203
        },
        "id": "tFFFPIVMTVO2",
        "outputId": "9e2ebbbf-fd69-49a2-ea19-183f7a6ef722"
      },
      "outputs": [
        {
          "data": {
            "text/html": [
              "<div>\n",
              "<style scoped>\n",
              "    .dataframe tbody tr th:only-of-type {\n",
              "        vertical-align: middle;\n",
              "    }\n",
              "\n",
              "    .dataframe tbody tr th {\n",
              "        vertical-align: top;\n",
              "    }\n",
              "\n",
              "    .dataframe thead th {\n",
              "        text-align: right;\n",
              "    }\n",
              "</style>\n",
              "<table border=\"1\" class=\"dataframe\">\n",
              "  <thead>\n",
              "    <tr style=\"text-align: right;\">\n",
              "      <th></th>\n",
              "      <th>Fecha</th>\n",
              "      <th>Contenido</th>\n",
              "      <th>Ubicacion</th>\n",
              "      <th>Servicio</th>\n",
              "      <th>Red_Social</th>\n",
              "    </tr>\n",
              "  </thead>\n",
              "  <tbody>\n",
              "    <tr>\n",
              "      <th>6</th>\n",
              "      <td>2021-10-22 23:52:52+00:00</td>\n",
              "      <td>@MundarayZair @ClaroColombia En España (soy co...</td>\n",
              "      <td>Valencia, España</td>\n",
              "      <td>tarjeta de crédito</td>\n",
              "      <td>Twitter</td>\n",
              "    </tr>\n",
              "    <tr>\n",
              "      <th>31</th>\n",
              "      <td>2021-10-22 23:00:08+00:00</td>\n",
              "      <td>PAGO POR MEDIO DE PayU para seguridad en tu co...</td>\n",
              "      <td>Bogotá, Colombia</td>\n",
              "      <td>tarjeta de crédito</td>\n",
              "      <td>Twitter</td>\n",
              "    </tr>\n",
              "    <tr>\n",
              "      <th>32</th>\n",
              "      <td>2021-10-22 23:00:01+00:00</td>\n",
              "      <td>Tarjeta de crédito: ¿Cuándo te conviene usarla...</td>\n",
              "      <td>México</td>\n",
              "      <td>tarjeta de crédito</td>\n",
              "      <td>Twitter</td>\n",
              "    </tr>\n",
              "    <tr>\n",
              "      <th>34</th>\n",
              "      <td>2021-10-22 22:57:20+00:00</td>\n",
              "      <td>Fui al Citibanamex por una tarjeta de crédito ...</td>\n",
              "      <td>Tabasco, México</td>\n",
              "      <td>tarjeta de crédito</td>\n",
              "      <td>Twitter</td>\n",
              "    </tr>\n",
              "    <tr>\n",
              "      <th>55</th>\n",
              "      <td>2021-10-22 22:28:40+00:00</td>\n",
              "      <td>Me da miedo usar mi tarjeta de crédito 😵‍💫</td>\n",
              "      <td>Mexico</td>\n",
              "      <td>tarjeta de crédito</td>\n",
              "      <td>Twitter</td>\n",
              "    </tr>\n",
              "  </tbody>\n",
              "</table>\n",
              "</div>"
            ],
            "text/plain": [
              "                       Fecha  \\\n",
              "6  2021-10-22 23:52:52+00:00   \n",
              "31 2021-10-22 23:00:08+00:00   \n",
              "32 2021-10-22 23:00:01+00:00   \n",
              "34 2021-10-22 22:57:20+00:00   \n",
              "55 2021-10-22 22:28:40+00:00   \n",
              "\n",
              "                                            Contenido         Ubicacion  \\\n",
              "6   @MundarayZair @ClaroColombia En España (soy co...  Valencia, España   \n",
              "31  PAGO POR MEDIO DE PayU para seguridad en tu co...  Bogotá, Colombia   \n",
              "32  Tarjeta de crédito: ¿Cuándo te conviene usarla...            México   \n",
              "34  Fui al Citibanamex por una tarjeta de crédito ...   Tabasco, México   \n",
              "55         Me da miedo usar mi tarjeta de crédito 😵‍💫           Mexico    \n",
              "\n",
              "              Servicio Red_Social  \n",
              "6   tarjeta de crédito    Twitter  \n",
              "31  tarjeta de crédito    Twitter  \n",
              "32  tarjeta de crédito    Twitter  \n",
              "34  tarjeta de crédito    Twitter  \n",
              "55  tarjeta de crédito    Twitter  "
            ]
          },
          "execution_count": 7,
          "metadata": {},
          "output_type": "execute_result"
        }
      ],
      "source": [
        "df_socialMedia_clean = df_Twitter.dropna()\n",
        "filter_ubicacion = df_socialMedia_clean['Ubicacion'].str.lower().str.contains('m.xico|espa.a|colombia')\n",
        "df_socialMedia_clean = df_socialMedia_clean[filter_ubicacion]\n",
        "df_socialMedia_clean.head()"
      ]
    },
    {
      "cell_type": "code",
      "execution_count": 8,
      "metadata": {
        "id": "Oxc5Giu_TVO3"
      },
      "outputs": [],
      "source": [
        "df_socialMedia_clean.to_csv('Datasets/df_socialMedia_clean.csv', sep=',', index=False)"
      ]
    }
  ],
  "metadata": {
    "colab": {
      "name": "analitica.ipynb",
      "provenance": []
    },
    "interpreter": {
      "hash": "980863351e097c2cc8bf1ac54e0d74da201f84e0a5b814987530c6c372f2fc20"
    },
    "kernelspec": {
      "display_name": "Python 3.9.7 64-bit",
      "name": "python3"
    },
    "language_info": {
      "codemirror_mode": {
        "name": "ipython",
        "version": 3
      },
      "file_extension": ".py",
      "mimetype": "text/x-python",
      "name": "python",
      "nbconvert_exporter": "python",
      "pygments_lexer": "ipython3",
      "version": "3.9.7"
    },
    "orig_nbformat": 4
  },
  "nbformat": 4,
  "nbformat_minor": 0
}
